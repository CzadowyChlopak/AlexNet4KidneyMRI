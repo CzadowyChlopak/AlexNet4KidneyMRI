{
 "cells": [
  {
   "cell_type": "markdown",
   "id": "4ca8f64f",
   "metadata": {
    "id": "4ca8f64f"
   },
   "source": [
    "# AlexNet model on custom dataset\n",
    "___\n",
    "\n",
    "# Łódź University of Technology\n",
    "## Faculty of Electrotechnics, Electronics, Information Technology and Automation Technology\n",
    "## Institution of Medical Electronics\n",
    "\n",
    "### Created by Dominik Dmowski\n",
    "___"
   ]
  },
  {
   "cell_type": "markdown",
   "id": "cded0e3d",
   "metadata": {
    "id": "cded0e3d"
   },
   "source": [
    "## Import dependencies"
   ]
  },
  {
   "cell_type": "code",
   "execution_count": 2,
   "id": "2DxE9h2vROIy",
   "metadata": {
    "colab": {
     "base_uri": "https://localhost:8080/"
    },
    "id": "2DxE9h2vROIy",
    "outputId": "491561de-1a29-439b-aa32-4251753b4c74"
   },
   "outputs": [
    {
     "name": "stdout",
     "output_type": "stream",
     "text": [
      "Mounted at /content/drive\n"
     ]
    }
   ],
   "source": [
    "from google.colab import drive\n",
    "drive.mount('/content/drive')"
   ]
  },
  {
   "cell_type": "code",
   "execution_count": 5,
   "id": "7bd04b06",
   "metadata": {
    "colab": {
     "base_uri": "https://localhost:8080/"
    },
    "id": "7bd04b06",
    "outputId": "b8a1bcbf-51d1-4155-ab69-95ce82255a08"
   },
   "outputs": [
    {
     "name": "stdout",
     "output_type": "stream",
     "text": [
      "2.10.1\n"
     ]
    }
   ],
   "source": [
    "import tensorflow as tf\n",
    "import cv2\n",
    "import numpy as np\n",
    "import pandas as pd\n",
    "import matplotlib.pyplot as plt\n",
    "import os\n",
    "import glob\n",
    "\n",
    "from sklearn.utils import shuffle\n",
    "\n",
    "import keras\n",
    "from keras.models import Sequential\n",
    "from keras.layers import Dense, Activation, Dropout, Flatten, Conv2D, MaxPooling2D\n",
    "from keras.layers import BatchNormalization\n",
    "\n",
    "from tensorflow.keras.callbacks import EarlyStopping\n",
    "\n",
    "import subprocess\n",
    "\n",
    "%matplotlib inline\n",
    "\n",
    "print(tf.__version__)"
   ]
  },
  {
   "cell_type": "code",
   "execution_count": 6,
   "id": "0db560f5",
   "metadata": {
    "colab": {
     "base_uri": "https://localhost:8080/"
    },
    "id": "0db560f5",
    "outputId": "efe87c0d-62fe-479b-a05e-dc18c41b29e3"
   },
   "outputs": [
    {
     "name": "stdout",
     "output_type": "stream",
     "text": [
      "Num GPUs Available:  1\n"
     ]
    }
   ],
   "source": [
    "# check if the TF is working on GPU\n",
    "print(\"Num GPUs Available: \", len(tf.config.list_physical_devices('GPU')))\n",
    "\n",
    "gpus = tf.config.list_physical_devices('GPU')\n",
    "\n",
    "# avoid OOM errors by setting GPU Memory Consumption Growth\n",
    "for gpu in gpus:\n",
    "    tf.config.experimental.set_memory_growth(gpu, True)"
   ]
  },
  {
   "cell_type": "code",
   "execution_count": 7,
   "id": "86d19d17",
   "metadata": {},
   "outputs": [
    {
     "name": "stdout",
     "output_type": "stream",
     "text": [
      "Used VRAM: 11001 MB\n"
     ]
    }
   ],
   "source": [
    "def get_gpu_memory_usage():\n",
    "    \"\"\"Get the GPU memory usage in MB.\"\"\"\n",
    "    result = subprocess.run(\n",
    "        ['nvidia-smi', '--query-gpu=memory.free', '--format=csv,nounits,noheader'],\n",
    "        stdout=subprocess.PIPE, \n",
    "        universal_newlines=True)\n",
    "    gpu_memory = [int(x) for x in result.stdout.strip().split('\\n')]\n",
    "    return gpu_memory\n",
    "\n",
    "gpu_memory_usage = get_gpu_memory_usage()\n",
    "print(f\"Used VRAM: {gpu_memory_usage[0]} MB\")"
   ]
  },
  {
   "cell_type": "markdown",
   "id": "1daa82c3",
   "metadata": {
    "id": "1daa82c3"
   },
   "source": [
    "___\n",
    "## Load dataset structures (without loading images)"
   ]
  },
  {
   "cell_type": "code",
   "execution_count": 8,
   "id": "ead1040d",
   "metadata": {
    "colab": {
     "base_uri": "https://localhost:8080/"
    },
    "id": "ead1040d",
    "outputId": "283ab634-265a-4ff7-962b-8ff2c28f92f9"
   },
   "outputs": [
    {
     "name": "stdout",
     "output_type": "stream",
     "text": [
      "Dataset is devided into calsses (get from Training set):  ['0', '1', '2']\n",
      "The dataset is divied into  3  classes.\n"
     ]
    }
   ],
   "source": [
    "# set correct folder path\n",
    "main_directory = r'Dataset-kidney-MRI'\n",
    "test_directory = r'Dataset-kidney-MRI\\Test'\n",
    "train_directory = r'Dataset-kidney-MRI\\Training'\n",
    "\n",
    "# classes get by subdirectories in folders\n",
    "kidney_classes = os.listdir(train_directory)\n",
    "print(\"Dataset is devided into calsses (get from Training set): \", kidney_classes)\n",
    "print(\"The dataset is divied into \", len(kidney_classes), \" classes.\")"
   ]
  },
  {
   "cell_type": "markdown",
   "id": "ad1958d9",
   "metadata": {
    "id": "ad1958d9"
   },
   "source": [
    "### Training"
   ]
  },
  {
   "cell_type": "code",
   "execution_count": 9,
   "id": "e678a255",
   "metadata": {
    "colab": {
     "base_uri": "https://localhost:8080/"
    },
    "id": "e678a255",
    "outputId": "4aa2bf46-b55f-415b-887b-767e2de2fd57"
   },
   "outputs": [
    {
     "name": "stdout",
     "output_type": "stream",
     "text": [
      "11220\n",
      "('0', 'Dataset-kidney-MRI\\\\Training\\\\0\\\\PK2_4_left_opp_020_0.jpg')\n"
     ]
    }
   ],
   "source": [
    "# load the training data\n",
    "\n",
    "#train_directory = r'Dataset-kidney-MRI\\Training'\n",
    "#kidney_classes = os.listdir(train_directory)\n",
    "\n",
    "training = []\n",
    "\n",
    "for subdirectory in kidney_classes:\n",
    "    # create path to subdirectories in training dataset\n",
    "    sub_dir_path = os.path.join(train_directory, subdirectory)\n",
    "    \n",
    "    # loop over each item in subdirectory\n",
    "    for file_path in glob.glob(os.path.join(sub_dir_path, '*.jpg')):\n",
    "        training.append((str(subdirectory),str(file_path)))\n",
    "        \n",
    "\n",
    "        \n",
    "        \n",
    "print(len(training))\n",
    "print(training[0])"
   ]
  },
  {
   "cell_type": "markdown",
   "id": "04cc5ac9",
   "metadata": {
    "id": "04cc5ac9"
   },
   "source": [
    "### Testing"
   ]
  },
  {
   "cell_type": "code",
   "execution_count": 10,
   "id": "c50c1012",
   "metadata": {
    "colab": {
     "base_uri": "https://localhost:8080/"
    },
    "id": "c50c1012",
    "outputId": "bac018c3-25eb-46f1-ddb1-5c51d84ff8cd"
   },
   "outputs": [
    {
     "name": "stdout",
     "output_type": "stream",
     "text": [
      "143\n",
      "('0', 'Dataset-kidney-MRI\\\\Test\\\\0\\\\PK1_4_left_opp_021_0.jpg')\n"
     ]
    }
   ],
   "source": [
    "# load the testing data\n",
    "\n",
    "#test_directory = r'Dataset-kidney-MRI\\Test'\n",
    "#kidney_classes = os.listdir(test_directory)\n",
    "\n",
    "testing = []\n",
    "\n",
    "for subdirectory in kidney_classes:\n",
    "    # create path to subdirectories in testing dataset\n",
    "    sub_dir_path = os.path.join(test_directory, subdirectory)\n",
    "    \n",
    "    # loop over each item in subdirectory\n",
    "    for file_path in glob.glob(os.path.join(sub_dir_path, '*.jpg')):\n",
    "        testing.append((str(subdirectory),str(file_path)))\n",
    "        \n",
    "\n",
    "        \n",
    "        \n",
    "print(len(testing))\n",
    "print(testing[0])"
   ]
  },
  {
   "cell_type": "markdown",
   "id": "dcff44c6",
   "metadata": {
    "id": "dcff44c6"
   },
   "source": [
    "___"
   ]
  },
  {
   "cell_type": "markdown",
   "id": "4f194432",
   "metadata": {
    "id": "4f194432"
   },
   "source": [
    "## Build dataframes"
   ]
  },
  {
   "cell_type": "code",
   "execution_count": 11,
   "id": "d4a8d779",
   "metadata": {
    "colab": {
     "base_uri": "https://localhost:8080/"
    },
    "id": "d4a8d779",
    "outputId": "6d54a060-a69e-40f9-8305-de766caca4d9"
   },
   "outputs": [
    {
     "name": "stdout",
     "output_type": "stream",
     "text": [
      "  class                                              image\n",
      "0     0  Dataset-kidney-MRI\\Training\\0\\PK2_4_left_opp_0...\n",
      "1     0  Dataset-kidney-MRI\\Training\\0\\PK2_4_left_opp_0...\n",
      "2     0  Dataset-kidney-MRI\\Training\\0\\PK2_4_left_opp_0...\n",
      "3     0  Dataset-kidney-MRI\\Training\\0\\PK2_4_left_opp_0...\n",
      "4     0  Dataset-kidney-MRI\\Training\\0\\PK2_4_left_opp_0...\n",
      "Total number of samples in TRAINING set is equal to:  11220\n",
      "Total number of samples in TESTING set is equal to:  143\n"
     ]
    }
   ],
   "source": [
    "training_df = pd.DataFrame(data=training, columns=['class','image'])\n",
    "testing_df = pd.DataFrame(data=testing, columns=['class','image'])\n",
    "\n",
    "print(training_df.head())\n",
    "print(\"Total number of samples in TRAINING set is equal to: \", len(training_df))\n",
    "print(\"Total number of samples in TESTING set is equal to: \", len(testing_df))"
   ]
  },
  {
   "cell_type": "code",
   "execution_count": 12,
   "id": "fcd13d76",
   "metadata": {
    "colab": {
     "base_uri": "https://localhost:8080/"
    },
    "id": "fcd13d76",
    "outputId": "2a922325-42c5-4cfc-d0ac-c6a0f659fac5"
   },
   "outputs": [
    {
     "name": "stdout",
     "output_type": "stream",
     "text": [
      "Images per class in training set: \n",
      "class\n",
      "1    5060\n",
      "2    3124\n",
      "0    3036\n",
      "Name: count, dtype: int64\n"
     ]
    }
   ],
   "source": [
    "image_count = training_df['class'].value_counts()\n",
    "\n",
    "print(\"Images per class in training set: \")\n",
    "print(image_count)"
   ]
  },
  {
   "cell_type": "code",
   "execution_count": 13,
   "id": "23b703a7",
   "metadata": {
    "colab": {
     "base_uri": "https://localhost:8080/"
    },
    "id": "23b703a7",
    "outputId": "8721bab5-fd4a-48da-cdf2-1be5bfbe05ea"
   },
   "outputs": [
    {
     "name": "stdout",
     "output_type": "stream",
     "text": [
      "Images per class in testing set: \n",
      "class\n",
      "0    52\n",
      "2    51\n",
      "1    40\n",
      "Name: count, dtype: int64\n"
     ]
    }
   ],
   "source": [
    "image_count = testing_df['class'].value_counts()\n",
    "\n",
    "print(\"Images per class in testing set: \")\n",
    "print(image_count)"
   ]
  },
  {
   "cell_type": "markdown",
   "id": "4e6e34ef",
   "metadata": {
    "id": "4e6e34ef"
   },
   "source": [
    "___"
   ]
  },
  {
   "cell_type": "markdown",
   "id": "901a823a",
   "metadata": {
    "id": "901a823a"
   },
   "source": [
    "## Prepare and load images with corresponding labels\n",
    "### Part with data preprocessing"
   ]
  },
  {
   "cell_type": "code",
   "execution_count": 14,
   "id": "2952c9eb",
   "metadata": {
    "colab": {
     "base_uri": "https://localhost:8080/"
    },
    "id": "2952c9eb",
    "outputId": "dab0407a-3ea8-4092-85bb-ad0c3a0eb455"
   },
   "outputs": [
    {
     "name": "stdout",
     "output_type": "stream",
     "text": [
      "---------------TRAINING---------------\n",
      "Check if the whole TRAINING set has been loaded:  11220 of LABELS and  11220  of IMAGES.\n",
      "Check the first training image shape:  (96, 96, 3)\n",
      "\n",
      "\n",
      "---------------TESTING----------------\n",
      "Check if the whole TESTING set has been loaded:  143 of LABELS and  143  of IMAGES.\n",
      "Check the first training image shape:  (96, 96, 3)\n"
     ]
    }
   ],
   "source": [
    "# AlexNet as input takes images 227x227x3, so it is necessary to reshape the dataset\n",
    "\n",
    "# set the image size\n",
    "im_size = 96\n",
    "\n",
    "\n",
    "#-----------FOR-TRAINING-DATA-----------\n",
    "X_train = []\n",
    "y_train = []\n",
    "\n",
    "for subdirectory in kidney_classes:\n",
    "    sub_dir_path = os.path.join(train_directory, subdirectory)\n",
    "    for file_path in glob.glob(os.path.join(sub_dir_path, '*.jpg')):\n",
    "        image = cv2.imread(file_path)\n",
    "        image = cv2.cvtColor(image, cv2.COLOR_BGR2RGB)\n",
    "        image = cv2.resize(image,(im_size, im_size))\n",
    "        X_train.append(image)\n",
    "        y_train.append(int(subdirectory))\n",
    "    \n",
    "    \n",
    "#-----------FOR-TESTING-DATA-----------\n",
    "X_test = []\n",
    "y_test = []\n",
    "\n",
    "for subdirectory in kidney_classes:\n",
    "    sub_dir_path = os.path.join(test_directory, subdirectory)\n",
    "    for file_path in glob.glob(os.path.join(sub_dir_path, '*.jpg')):\n",
    "        image = cv2.imread(file_path)\n",
    "        image = cv2.cvtColor(image, cv2.COLOR_BGR2RGB)\n",
    "        image = cv2.resize(image,(im_size, im_size))\n",
    "        X_test.append(image)\n",
    "        y_test.append(int(subdirectory))\n",
    "\n",
    "print(\"---------------TRAINING---------------\")\n",
    "print(\"Check if the whole TRAINING set has been loaded: \",\n",
    "      len(y_train), \"of LABELS and \",  len(X_train), \" of IMAGES.\")\n",
    "print(\"Check the first training image shape: \", X_train[0].shape[0:])\n",
    "\n",
    "print(\"\\n\\n---------------TESTING----------------\")\n",
    "print(\"Check if the whole TESTING set has been loaded: \",\n",
    "      len(y_test), \"of LABELS and \",  len(X_test), \" of IMAGES.\")\n",
    "print(\"Check the first training image shape: \", X_test[0].shape[0:])"
   ]
  },
  {
   "cell_type": "code",
   "execution_count": 15,
   "id": "2bd56b1c",
   "metadata": {
    "colab": {
     "base_uri": "https://localhost:8080/"
    },
    "id": "2bd56b1c",
    "outputId": "ae10967f-d218-40ba-ae09-89f86d1d36d1"
   },
   "outputs": [
    {
     "name": "stdout",
     "output_type": "stream",
     "text": [
      "(11220, 96, 96, 3)\n",
      "(143, 96, 96, 3)\n"
     ]
    }
   ],
   "source": [
    "# transform loaded images into numpy array\n",
    "X_train = np.array(X_train)\n",
    "X_test = np.array(X_test)\n",
    "\n",
    "print(X_train.shape)\n",
    "print(X_test.shape)\n",
    "\n",
    "# divide by maximum possible pixel value to simplify computing\n",
    "X_train = X_train.astype('float32') / 255.0\n",
    "X_test = X_test.astype('float32') / 255.0"
   ]
  },
  {
   "cell_type": "code",
   "execution_count": 16,
   "id": "e253f088",
   "metadata": {
    "colab": {
     "base_uri": "https://localhost:8080/"
    },
    "id": "e253f088",
    "outputId": "d0edc04a-31e9-4cb4-f25c-a1a7f4463cdc"
   },
   "outputs": [
    {
     "name": "stdout",
     "output_type": "stream",
     "text": [
      "(11220, 96, 96, 3)\n",
      "11220\n",
      "(143, 96, 96, 3)\n",
      "143\n"
     ]
    }
   ],
   "source": [
    "# in case of calling classes by integers by default there is no need to encode the labels\n",
    "\n",
    "X_train, y_train = shuffle(X_train, y_train, random_state=1)\n",
    "X_test, y_test = shuffle(X_test, y_test, random_state=1)\n",
    "print(X_train.shape)\n",
    "print(len(y_train))\n",
    "print(X_test.shape)\n",
    "print(len(y_test))"
   ]
  },
  {
   "cell_type": "code",
   "execution_count": 17,
   "id": "4a91e62c",
   "metadata": {
    "colab": {
     "base_uri": "https://localhost:8080/"
    },
    "id": "4a91e62c",
    "outputId": "2f0bdfbb-8c99-4737-f9df-058e7ee26bf2"
   },
   "outputs": [
    {
     "name": "stdout",
     "output_type": "stream",
     "text": [
      "(11220, 3)\n",
      "(143, 3)\n"
     ]
    }
   ],
   "source": [
    "# convert labels into one hots\n",
    "\n",
    "y_train = tf.one_hot(y_train, 3)\n",
    "y_test = tf.one_hot(y_test, 3)\n",
    "print(y_train.shape)\n",
    "print(y_test.shape)"
   ]
  },
  {
   "cell_type": "markdown",
   "id": "9eaf18f9",
   "metadata": {
    "id": "9eaf18f9"
   },
   "source": [
    "___\n",
    "## Implement AlexNet"
   ]
  },
  {
   "cell_type": "code",
   "execution_count": 18,
   "id": "9e2cb711",
   "metadata": {
    "colab": {
     "base_uri": "https://localhost:8080/"
    },
    "id": "9e2cb711",
    "outputId": "900b7e24-b656-464c-b2d8-96ab3d4e1809"
   },
   "outputs": [
    {
     "name": "stdout",
     "output_type": "stream",
     "text": [
      "Model: \"sequential\"\n",
      "_________________________________________________________________\n",
      " Layer (type)                Output Shape              Param #   \n",
      "=================================================================\n",
      " conv2d (Conv2D)             (None, 22, 22, 96)        34944     \n",
      "                                                                 \n",
      " max_pooling2d (MaxPooling2D  (None, 10, 10, 96)       0         \n",
      " )                                                               \n",
      "                                                                 \n",
      " conv2d_1 (Conv2D)           (None, 10, 10, 256)       614656    \n",
      "                                                                 \n",
      " max_pooling2d_1 (MaxPooling  (None, 4, 4, 256)        0         \n",
      " 2D)                                                             \n",
      "                                                                 \n",
      " conv2d_2 (Conv2D)           (None, 4, 4, 384)         885120    \n",
      "                                                                 \n",
      " conv2d_3 (Conv2D)           (None, 4, 4, 384)         1327488   \n",
      "                                                                 \n",
      " conv2d_4 (Conv2D)           (None, 4, 4, 256)         884992    \n",
      "                                                                 \n",
      " max_pooling2d_2 (MaxPooling  (None, 1, 1, 256)        0         \n",
      " 2D)                                                             \n",
      "                                                                 \n",
      " flatten (Flatten)           (None, 256)               0         \n",
      "                                                                 \n",
      " dense (Dense)               (None, 4096)              1052672   \n",
      "                                                                 \n",
      " dropout (Dropout)           (None, 4096)              0         \n",
      "                                                                 \n",
      " dense_1 (Dense)             (None, 4096)              16781312  \n",
      "                                                                 \n",
      " dropout_1 (Dropout)         (None, 4096)              0         \n",
      "                                                                 \n",
      " dense_2 (Dense)             (None, 3)                 12291     \n",
      "                                                                 \n",
      "=================================================================\n",
      "Total params: 21,593,475\n",
      "Trainable params: 21,593,475\n",
      "Non-trainable params: 0\n",
      "_________________________________________________________________\n"
     ]
    }
   ],
   "source": [
    "image_shape = (im_size, im_size,3)\n",
    "\n",
    "# instantiate an empty model\n",
    "np.random.seed(1000)\n",
    "\n",
    "# initialize model\n",
    "model = Sequential()\n",
    "\n",
    "# First convolutional layer\n",
    "model.add(Conv2D(filters=96, kernel_size=(11,11), strides=(4,4), \n",
    "                 padding='valid', activation='relu', \n",
    "                 input_shape=(96,96,3)))\n",
    "model.add(MaxPooling2D(pool_size=(3,3), strides=(2,2), padding='valid'))\n",
    "\n",
    "# Second convolutional layer\n",
    "model.add(Conv2D(filters=256, kernel_size=(5,5), strides=(1,1), \n",
    "                 padding='same', activation='relu'))\n",
    "model.add(MaxPooling2D(pool_size=(3,3), strides=(2,2), padding='valid'))\n",
    "\n",
    "# Third convolutional layer\n",
    "model.add(Conv2D(filters=384, kernel_size=(3,3), strides=(1,1), \n",
    "                 padding='same', activation='relu'))\n",
    "\n",
    "# Fourth convolutional layer\n",
    "model.add(Conv2D(filters=384, kernel_size=(3,3), strides=(1,1), \n",
    "                 padding='same', activation='relu'))\n",
    "\n",
    "# Fifth convolutional layer\n",
    "model.add(Conv2D(filters=256, kernel_size=(3,3), strides=(1,1), \n",
    "                 padding='same', activation='relu'))\n",
    "model.add(MaxPooling2D(pool_size=(3,3), strides=(2,2), padding='valid'))\n",
    "\n",
    "# Passing to Fully Connected layer, do the flatten\n",
    "model.add(Flatten())\n",
    "\n",
    "# Dense layers\n",
    "model.add(Dense(units=4096, activation='relu'))\n",
    "model.add(Dropout(0.5))\n",
    "model.add(Dense(units=4096, activation='relu'))\n",
    "model.add(Dropout(0.5))\n",
    "model.add(Dense(units=3, activation='softmax'))\n",
    "\n",
    "model.summary()\n",
    "\n",
    "# Compile the model\n",
    "model.compile(loss = keras.losses.categorical_crossentropy, optimizer='adam', metrics=['accuracy'])"
   ]
  },
  {
   "cell_type": "markdown",
   "id": "25f84181",
   "metadata": {
    "id": "25f84181"
   },
   "source": [
    "## Train the model"
   ]
  },
  {
   "cell_type": "code",
   "execution_count": 19,
   "id": "5f75b76a",
   "metadata": {
    "id": "5f75b76a"
   },
   "outputs": [],
   "source": [
    "# set up early stop to terminate training after accuracy losses\n",
    "early_stop = EarlyStopping(monitor='val_accuracy', mode='max', verbose=1, patience=5)"
   ]
  },
  {
   "cell_type": "code",
   "execution_count": 20,
   "id": "ea064667",
   "metadata": {
    "colab": {
     "base_uri": "https://localhost:8080/"
    },
    "id": "ea064667",
    "outputId": "f0c98efd-1db1-4663-9b46-c03d7660cb93"
   },
   "outputs": [
    {
     "data": {
      "text/plain": [
       "True"
      ]
     },
     "execution_count": 20,
     "metadata": {},
     "output_type": "execute_result"
    }
   ],
   "source": [
    "isinstance(X_train,np.ndarray)"
   ]
  },
  {
   "cell_type": "code",
   "execution_count": null,
   "id": "7477acc6",
   "metadata": {
    "colab": {
     "base_uri": "https://localhost:8080/"
    },
    "id": "7477acc6",
    "outputId": "cece06c7-45e2-45d3-b779-8b61651d1db1"
   },
   "outputs": [
    {
     "name": "stdout",
     "output_type": "stream",
     "text": [
      "Epoch 1/500\n"
     ]
    }
   ],
   "source": [
    "history = model.fit(x = X_train, y = y_train,\n",
    "                   epochs = 500,\n",
    "                   validation_data = (X_test, y_test),\n",
    "                   callbacks=[early_stop],\n",
    "                   shuffle=True)"
   ]
  }
 ],
 "metadata": {
  "accelerator": "GPU",
  "colab": {
   "provenance": []
  },
  "gpuClass": "standard",
  "kernelspec": {
   "display_name": "Python 3.8 (Tensorflow 2.10)",
   "language": "python",
   "name": "tf"
  },
  "language_info": {
   "codemirror_mode": {
    "name": "ipython",
    "version": 3
   },
   "file_extension": ".py",
   "mimetype": "text/x-python",
   "name": "python",
   "nbconvert_exporter": "python",
   "pygments_lexer": "ipython3",
   "version": "3.8.16"
  }
 },
 "nbformat": 4,
 "nbformat_minor": 5
}
