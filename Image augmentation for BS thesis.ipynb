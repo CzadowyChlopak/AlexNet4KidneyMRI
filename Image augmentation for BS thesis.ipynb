{
 "cells": [
  {
   "cell_type": "markdown",
   "id": "9f22a0dc",
   "metadata": {},
   "source": [
    "# Łódź University of Technology\n",
    "## Faculty of Electrotechnics, Electronics, Information Technology and Automation Technology\n",
    "## Institution of Medical Electronics\n",
    "\n",
    "### Created by Dominik Dmowski\n",
    "___"
   ]
  },
  {
   "cell_type": "markdown",
   "id": "5b4286d8",
   "metadata": {},
   "source": [
    "## Import Libraries"
   ]
  },
  {
   "cell_type": "code",
   "execution_count": 6,
   "id": "845c05a5",
   "metadata": {},
   "outputs": [],
   "source": [
    "import os\n",
    "import cv2\n",
    "import matplotlib.pyplot as plt\n",
    "import albumentations as A\n",
    "import numpy as np\n",
    "import random\n",
    "import time"
   ]
  },
  {
   "cell_type": "markdown",
   "id": "350a4234",
   "metadata": {},
   "source": [
    "## Functions for output visualizations\n",
    "\n",
    "I mainly used those functions for testing, in this version there is no use of them, so you can feel free to skip that step."
   ]
  },
  {
   "cell_type": "code",
   "execution_count": 7,
   "id": "e4015295",
   "metadata": {},
   "outputs": [],
   "source": [
    "# The first function is from the official Albumentations documentations\n",
    "# It has been used to visualize sigular images during the augmentation process\n",
    "def visualize(image):\n",
    "    \n",
    "    \"\"\"For a single image visualization, \n",
    "    the input parameter is an image that will be displayed\"\"\"\n",
    "\n",
    "    plt.figure(figsize=(10, 10))\n",
    "    plt.axis('off')\n",
    "    plt.imshow(image)\n",
    "\n",
    "# The second function is created by my own, it is extended version of previous one\n",
    "# The idea was to visualize both image and mask in one row\n",
    "def multi_visualize(image, mask):\n",
    "    \n",
    "    \"\"\"For a multiple visualization - as a result there will be displayed a pair of images in one line. \n",
    "    As input there are two singular images, the primary usage was to display a pair of an image and its mask.\"\"\"\n",
    "    \n",
    "    fig = plt.figure(figsize=(10, 10))\n",
    "    fig.add_subplot(2,2,1)\n",
    "    plt.axis('off')\n",
    "    plt.imshow(image)\n",
    "    fig.add_subplot(2,2,2)\n",
    "    plt.axis('off')\n",
    "    plt.imshow(mask)"
   ]
  },
  {
   "cell_type": "markdown",
   "id": "a46fef3d",
   "metadata": {},
   "source": [
    "## Augmentation function"
   ]
  },
  {
   "cell_type": "code",
   "execution_count": 13,
   "id": "ac5c1eb7",
   "metadata": {},
   "outputs": [],
   "source": [
    "def image_augmentation(image_path):\n",
    "    \n",
    "    \"\"\"A function that allow to read an image by its path and\n",
    "    create an augmentation of that variable\"\"\"\n",
    "    \n",
    "    # read image\n",
    "    image = cv2.imread(image_path)\n",
    "    \n",
    "    # create transformation\n",
    "    transform = A.Compose([\n",
    "        A.GaussianBlur (blur_limit=(3, 3), sigma_limit=0, p=.5),\n",
    "        A.RandomGamma (gamma_limit=(80, 120), eps=None, p=.5),\n",
    "        A.RandomBrightnessContrast (brightness_limit=0.2, contrast_limit=0.2, \n",
    "                                    brightness_by_max=True, p=.5),\n",
    "        A.HorizontalFlip (p=.5),\n",
    "        A.VerticalFlip (p=.5),\n",
    "        A.SafeRotate (limit=90, interpolation=1, border_mode=cv2.BORDER_CONSTANT, \n",
    "                      value=None, mask_value=None, p=.5),\n",
    "        A.Perspective (scale=(0.05, 0.1), keep_size=True, pad_mode=cv2.BORDER_CONSTANT, \n",
    "                       pad_val=0, mask_pad_val=0, fit_output=False, interpolation=1, p=.5),\n",
    "        A.ElasticTransform (alpha=1, sigma=15, alpha_affine=10, interpolation=1, \n",
    "                            border_mode=cv2.BORDER_CONSTANT, value=None, mask_value=None, p=.5)\n",
    "    ])\n",
    "    \n",
    "    # apply augmentation\n",
    "    augmented = transform(image=image)\n",
    "    \n",
    "    # retrive image\n",
    "    augmented_image = augmented['image']\n",
    "    \n",
    "    # return variable\n",
    "    return augmented_image"
   ]
  },
  {
   "cell_type": "markdown",
   "id": "b47237b0",
   "metadata": {},
   "source": [
    "## Creat filename function"
   ]
  },
  {
   "cell_type": "code",
   "execution_count": 9,
   "id": "878b58d1",
   "metadata": {},
   "outputs": [],
   "source": [
    "def create_filename(orginal_filename, iterator):\n",
    "    \n",
    "    \"\"\"Function to create new filenames in pipeline for augmented images.\n",
    "     As an input it takes orginal filename and the loop iterator\"\"\"\n",
    "    \n",
    "    \n",
    "    # Find and divide name and extension\n",
    "    split_filename = orginal_filename.split('.')\n",
    "    \n",
    "    # Add to name the iterator\n",
    "    split_filename[0] = split_filename[0] + \"_aug_\" + str(iterator)\n",
    "    \n",
    "    # merge the filename with extension\n",
    "    created_name = \".\".join(split_filename)\n",
    "    \n",
    "    # return merged value\n",
    "    return created_name"
   ]
  },
  {
   "cell_type": "markdown",
   "id": "89cec954",
   "metadata": {},
   "source": [
    "## Folder paths that are storing the information"
   ]
  },
  {
   "cell_type": "code",
   "execution_count": 10,
   "id": "370e8516",
   "metadata": {},
   "outputs": [],
   "source": [
    "# Little structure explanation\n",
    "\n",
    "# The Kidney Images are divided into 3 classes:\n",
    "#      - Control - kidneys of those patients were classified as healthy\n",
    "#      - Active inflamation (AI) - in those kidney images the doctor noticed inflammatory changes\n",
    "#      - Chronic fibrosis (CF) - in those images the doctor noticed the fibroid structures\n",
    "\n",
    "main_directory = r'Dataset-kidney-MRI\\Training'\n",
    "control_directory = r'Dataset-kidney-MRI\\Training\\0'\n",
    "ai_directory = r'Dataset-kidney-MRI\\Training\\1'\n",
    "cf_directory = r'Dataset-kidney-MRI\\Training\\2'\n",
    "\n",
    "# The augmentation will be done only on the training data\n",
    "# The test data will be unchanged"
   ]
  },
  {
   "cell_type": "markdown",
   "id": "1a6db908",
   "metadata": {},
   "source": [
    "## Loop to create image augmentations"
   ]
  },
  {
   "cell_type": "code",
   "execution_count": 14,
   "id": "cd14a128",
   "metadata": {},
   "outputs": [
    {
     "name": "stdout",
     "output_type": "stream",
     "text": [
      "Process has been done in 68.327 and generated 20400 images.\n"
     ]
    }
   ],
   "source": [
    "# Get previously defined directories paths \n",
    "# into table to easily iterate them in a loop\n",
    "directories = [control_directory, \n",
    "              ai_directory,\n",
    "              cf_directory]\n",
    "\n",
    "# Set file counter and starting time\n",
    "# to calculate number of generate images and duration of execution\n",
    "file_counter = 0\n",
    "time_start = time.time()\n",
    "\n",
    "\n",
    "\n",
    "#iterate by every directory\n",
    "for i in range(0,3):\n",
    "    \n",
    "    # Get the correct folder directory for each iteration\n",
    "    current_directory = directories[i]\n",
    "    \n",
    "    \n",
    "    # iterate by every file in current directory\n",
    "    for filename in os.listdir(current_directory):\n",
    "        \n",
    "        # create whole file path\n",
    "        file_path = os.path.join(current_directory,\n",
    "                                 filename)\n",
    "        \n",
    "        # Loop for the augmenation operations\n",
    "        for i in range(0,20):\n",
    "            \n",
    "            # augment an image\n",
    "            new_image = image_augmentation(file_path)\n",
    "            \n",
    "            # create file name and path\n",
    "            new_filename = create_filename(filename, i)\n",
    "            new_filepath = os.path.join(current_directory,\n",
    "                                        new_filename)\n",
    "            \n",
    "            # save the file\n",
    "            cv2.imwrite(new_filepath, new_image)\n",
    "            \n",
    "            # Acumulate number of files\n",
    "            file_counter += 1\n",
    "        \n",
    "        \n",
    "# Get the finishing time and count the duration        \n",
    "time_finish = time.time()\n",
    "duration = time_finish - time_start\n",
    "\n",
    "print(\"Process has been done in \" + str(round(duration, 3)) +\n",
    "      \" and generated \" + str(file_counter) + \" images.\")"
   ]
  },
  {
   "cell_type": "code",
   "execution_count": null,
   "id": "021de6c5",
   "metadata": {},
   "outputs": [],
   "source": []
  }
 ],
 "metadata": {
  "kernelspec": {
   "display_name": "albumentations",
   "language": "python",
   "name": "albumentations"
  },
  "language_info": {
   "codemirror_mode": {
    "name": "ipython",
    "version": 3
   },
   "file_extension": ".py",
   "mimetype": "text/x-python",
   "name": "python",
   "nbconvert_exporter": "python",
   "pygments_lexer": "ipython3",
   "version": "3.8.15"
  }
 },
 "nbformat": 4,
 "nbformat_minor": 5
}
