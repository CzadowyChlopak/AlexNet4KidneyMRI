{
 "cells": [
  {
   "cell_type": "markdown",
   "id": "4ca8f64f",
   "metadata": {},
   "source": [
    "# AlexNet model on custom dataset\n",
    "___\n",
    "\n",
    "# Łódź University of Technology\n",
    "## Faculty of Electrotechnics, Electronics, Information Technology and Automation Technology\n",
    "## Institution of Medical Electronics\n",
    "\n",
    "### Created by Dominik Dmowski\n",
    "___"
   ]
  },
  {
   "cell_type": "markdown",
   "id": "cded0e3d",
   "metadata": {},
   "source": [
    "## Import dependencies"
   ]
  },
  {
   "cell_type": "code",
   "execution_count": 1,
   "id": "7bd04b06",
   "metadata": {},
   "outputs": [],
   "source": [
    "import tensorflow as tf\n",
    "import cv2\n",
    "import numpy as np\n",
    "import pandas as pd\n",
    "import matplotlib.pyplot as plt\n",
    "import os\n",
    "import glob\n",
    "\n",
    "from sklearn.utils import shuffle\n",
    "\n",
    "import keras\n",
    "from keras.models import Sequential\n",
    "from keras.layers import Dense, Activation, Dropout, Flatten, Conv2D, MaxPooling2D\n",
    "from keras.layers import BatchNormalization\n",
    "\n",
    "%matplotlib inline"
   ]
  },
  {
   "cell_type": "code",
   "execution_count": 2,
   "id": "0db560f5",
   "metadata": {},
   "outputs": [
    {
     "name": "stdout",
     "output_type": "stream",
     "text": [
      "Num GPUs Available:  1\n"
     ]
    }
   ],
   "source": [
    "# check if the TF is working on GPU\n",
    "print(\"Num GPUs Available: \", len(tf.config.list_physical_devices('GPU')))\n",
    "\n",
    "# avoid OOM errors by setting GPU Memory Consumption Growth\n",
    "gpus = tf.config.experimental.list_physical_devices('GPU')\n",
    "for gpu in gpus:\n",
    "    tf.config.experimental.set_memory_growth(gpu, True)"
   ]
  },
  {
   "cell_type": "markdown",
   "id": "1daa82c3",
   "metadata": {},
   "source": [
    "___\n",
    "## Load dataset structures (without loading images)"
   ]
  },
  {
   "cell_type": "code",
   "execution_count": 3,
   "id": "ead1040d",
   "metadata": {},
   "outputs": [
    {
     "name": "stdout",
     "output_type": "stream",
     "text": [
      "Dataset is devided into calsses (get from Training set):  ['0', '1', '2']\n",
      "The dataset is divied into  3  classes.\n"
     ]
    }
   ],
   "source": [
    "# set correct folder path\n",
    "main_directory = r'Dataset-kidney-MRI'\n",
    "test_directory = r'Dataset-kidney-MRI\\Test'\n",
    "train_directory = r'Dataset-kidney-MRI\\Training'\n",
    "\n",
    "# classes get by subdirectories in folders\n",
    "kidney_classes = os.listdir(train_directory)\n",
    "print(\"Dataset is devided into calsses (get from Training set): \", kidney_classes)\n",
    "print(\"The dataset is divied into \", len(kidney_classes), \" classes.\")"
   ]
  },
  {
   "cell_type": "markdown",
   "id": "ad1958d9",
   "metadata": {},
   "source": [
    "### Training"
   ]
  },
  {
   "cell_type": "code",
   "execution_count": 4,
   "id": "e678a255",
   "metadata": {},
   "outputs": [
    {
     "name": "stdout",
     "output_type": "stream",
     "text": [
      "21420\n",
      "('0', 'Dataset-kidney-MRI\\\\Training\\\\0\\\\PK2_4_left_opp_020_0.jpg')\n"
     ]
    }
   ],
   "source": [
    "# load the training data\n",
    "\n",
    "#train_directory = r'Dataset-kidney-MRI\\Training'\n",
    "#kidney_classes = os.listdir(train_directory)\n",
    "\n",
    "training = []\n",
    "\n",
    "for subdirectory in kidney_classes:\n",
    "    # create path to subdirectories in training dataset\n",
    "    sub_dir_path = os.path.join(train_directory, subdirectory)\n",
    "    \n",
    "    # loop over each item in subdirectory\n",
    "    for file_path in glob.glob(os.path.join(sub_dir_path, '*.jpg')):\n",
    "        training.append((str(subdirectory),str(file_path)))\n",
    "        \n",
    "\n",
    "        \n",
    "        \n",
    "print(len(training))\n",
    "print(training[0])"
   ]
  },
  {
   "cell_type": "markdown",
   "id": "04cc5ac9",
   "metadata": {},
   "source": [
    "### Testing"
   ]
  },
  {
   "cell_type": "code",
   "execution_count": 5,
   "id": "c50c1012",
   "metadata": {},
   "outputs": [
    {
     "name": "stdout",
     "output_type": "stream",
     "text": [
      "143\n",
      "('0', 'Dataset-kidney-MRI\\\\Test\\\\0\\\\PK1_4_left_opp_021_0.jpg')\n"
     ]
    }
   ],
   "source": [
    "# load the testing data\n",
    "\n",
    "#test_directory = r'Dataset-kidney-MRI\\Test'\n",
    "#kidney_classes = os.listdir(test_directory)\n",
    "\n",
    "testing = []\n",
    "\n",
    "for subdirectory in kidney_classes:\n",
    "    # create path to subdirectories in testing dataset\n",
    "    sub_dir_path = os.path.join(test_directory, subdirectory)\n",
    "    \n",
    "    # loop over each item in subdirectory\n",
    "    for file_path in glob.glob(os.path.join(sub_dir_path, '*.jpg')):\n",
    "        testing.append((str(subdirectory),str(file_path)))\n",
    "        \n",
    "\n",
    "        \n",
    "        \n",
    "print(len(testing))\n",
    "print(testing[0])"
   ]
  },
  {
   "cell_type": "markdown",
   "id": "dcff44c6",
   "metadata": {},
   "source": [
    "___"
   ]
  },
  {
   "cell_type": "markdown",
   "id": "4f194432",
   "metadata": {},
   "source": [
    "## Build dataframes"
   ]
  },
  {
   "cell_type": "code",
   "execution_count": 6,
   "id": "d4a8d779",
   "metadata": {},
   "outputs": [
    {
     "name": "stdout",
     "output_type": "stream",
     "text": [
      "  class                                              image\n",
      "0     0  Dataset-kidney-MRI\\Training\\0\\PK2_4_left_opp_0...\n",
      "1     0  Dataset-kidney-MRI\\Training\\0\\PK2_4_left_opp_0...\n",
      "2     0  Dataset-kidney-MRI\\Training\\0\\PK2_4_left_opp_0...\n",
      "3     0  Dataset-kidney-MRI\\Training\\0\\PK2_4_left_opp_0...\n",
      "4     0  Dataset-kidney-MRI\\Training\\0\\PK2_4_left_opp_0...\n",
      "Total number of samples in TRAINING set is equal to:  21420\n",
      "Total number of samples in TESTING set is equal to:  143\n"
     ]
    }
   ],
   "source": [
    "training_df = pd.DataFrame(data=training, columns=['class','image'])\n",
    "testing_df = pd.DataFrame(data=testing, columns=['class','image'])\n",
    "\n",
    "print(training_df.head())\n",
    "print(\"Total number of samples in TRAINING set is equal to: \", len(training_df))\n",
    "print(\"Total number of samples in TESTING set is equal to: \", len(testing_df))"
   ]
  },
  {
   "cell_type": "code",
   "execution_count": 7,
   "id": "fcd13d76",
   "metadata": {},
   "outputs": [
    {
     "name": "stdout",
     "output_type": "stream",
     "text": [
      "Images per class in training set: \n",
      "class\n",
      "1    9660\n",
      "2    5964\n",
      "0    5796\n",
      "Name: count, dtype: int64\n"
     ]
    }
   ],
   "source": [
    "image_count = training_df['class'].value_counts()\n",
    "\n",
    "print(\"Images per class in training set: \")\n",
    "print(image_count)"
   ]
  },
  {
   "cell_type": "code",
   "execution_count": 8,
   "id": "23b703a7",
   "metadata": {},
   "outputs": [
    {
     "name": "stdout",
     "output_type": "stream",
     "text": [
      "Images per class in testing set: \n",
      "class\n",
      "0    52\n",
      "2    51\n",
      "1    40\n",
      "Name: count, dtype: int64\n"
     ]
    }
   ],
   "source": [
    "image_count = testing_df['class'].value_counts()\n",
    "\n",
    "print(\"Images per class in testing set: \")\n",
    "print(image_count)"
   ]
  },
  {
   "cell_type": "markdown",
   "id": "4e6e34ef",
   "metadata": {},
   "source": [
    "___"
   ]
  },
  {
   "cell_type": "markdown",
   "id": "901a823a",
   "metadata": {},
   "source": [
    "## Prepare and load images with corresponding labels\n",
    "### Part with data preprocessing"
   ]
  },
  {
   "cell_type": "code",
   "execution_count": 9,
   "id": "2952c9eb",
   "metadata": {},
   "outputs": [
    {
     "name": "stdout",
     "output_type": "stream",
     "text": [
      "---------------TRAINING---------------\n",
      "Check if the whole TRAINING set has been loaded:  21420 of LABELS and  21420  of IMAGES.\n",
      "Check the first training image shape:  (227, 227, 3)\n",
      "\n",
      "\n",
      "---------------TESTING----------------\n",
      "Check if the whole TESTING set has been loaded:  143 of LABELS and  143  of IMAGES.\n",
      "Check the first training image shape:  (227, 227, 3)\n"
     ]
    }
   ],
   "source": [
    "# AlexNet as input takes images 227x227x3, so it is necessary to reshape the dataset\n",
    "\n",
    "# set the image size\n",
    "im_size = 227\n",
    "\n",
    "\n",
    "#-----------FOR-TRAINING-DATA-----------\n",
    "X_train = []\n",
    "y_train = []\n",
    "\n",
    "for subdirectory in kidney_classes:\n",
    "    sub_dir_path = os.path.join(train_directory, subdirectory)\n",
    "    for file_path in glob.glob(os.path.join(sub_dir_path, '*.jpg')):\n",
    "        image = cv2.imread(file_path)\n",
    "        image = cv2.cvtColor(image, cv2.COLOR_BGR2RGB)\n",
    "        image = cv2.resize(image,(im_size, im_size))\n",
    "        X_train.append(image)\n",
    "        y_train.append(int(subdirectory))\n",
    "    \n",
    "    \n",
    "#-----------FOR-TESTING-DATA-----------\n",
    "X_test = []\n",
    "y_test = []\n",
    "\n",
    "for subdirectory in kidney_classes:\n",
    "    sub_dir_path = os.path.join(test_directory, subdirectory)\n",
    "    for file_path in glob.glob(os.path.join(sub_dir_path, '*.jpg')):\n",
    "        image = cv2.imread(file_path)\n",
    "        image = cv2.cvtColor(image, cv2.COLOR_BGR2RGB)\n",
    "        image = cv2.resize(image,(im_size, im_size))\n",
    "        X_test.append(image)\n",
    "        y_test.append(int(subdirectory))\n",
    "\n",
    "print(\"---------------TRAINING---------------\")\n",
    "print(\"Check if the whole TRAINING set has been loaded: \",\n",
    "      len(y_train), \"of LABELS and \",  len(X_train), \" of IMAGES.\")\n",
    "print(\"Check the first training image shape: \", X_train[0].shape[0:])\n",
    "\n",
    "print(\"\\n\\n---------------TESTING----------------\")\n",
    "print(\"Check if the whole TESTING set has been loaded: \",\n",
    "      len(y_test), \"of LABELS and \",  len(X_test), \" of IMAGES.\")\n",
    "print(\"Check the first training image shape: \", X_test[0].shape[0:])"
   ]
  },
  {
   "cell_type": "code",
   "execution_count": 10,
   "id": "a0f4fcf5",
   "metadata": {},
   "outputs": [
    {
     "name": "stdout",
     "output_type": "stream",
     "text": [
      "1\n"
     ]
    },
    {
     "data": {
      "image/png": "[encoded data removed]",
      "text/plain": [
       "<Figure size 640x480 with 1 Axes>"
      ]
     },
     "metadata": {},
     "output_type": "display_data"
    }
   ],
   "source": [
    "i = 11111\n",
    "\n",
    "plt.imshow(X_train[i])\n",
    "print(y_train[i])"
   ]
  },
  {
   "cell_type": "code",
   "execution_count": 11,
   "id": "2bd56b1c",
   "metadata": {},
   "outputs": [
    {
     "name": "stdout",
     "output_type": "stream",
     "text": [
      "(21420, 227, 227, 3)\n",
      "(143, 227, 227, 3)\n"
     ]
    }
   ],
   "source": [
    "# transform loaded images into numpy array\n",
    "X_train = np.array(X_train)\n",
    "X_test = np.array(X_test)\n",
    "\n",
    "print(X_train.shape)\n",
    "print(X_test.shape)\n",
    "\n",
    "# divide by maximum possible pixel value to simplify computing\n",
    "X_train = X_train.astype('float32') / 255.0\n",
    "X_test = X_test.astype('float32') / 255.0"
   ]
  },
  {
   "cell_type": "code",
   "execution_count": 12,
   "id": "e253f088",
   "metadata": {},
   "outputs": [
    {
     "name": "stdout",
     "output_type": "stream",
     "text": [
      "(21420, 227, 227, 3)\n",
      "21420\n",
      "(143, 227, 227, 3)\n",
      "143\n"
     ]
    }
   ],
   "source": [
    "# in case of calling classes by integers by default there is no need to encode the labels\n",
    "\n",
    "X_train, y_train = shuffle(X_train, y_train, random_state=1)\n",
    "X_test, y_test = shuffle(X_test, y_test, random_state=1)\n",
    "print(X_train.shape)\n",
    "print(len(y_train))\n",
    "print(X_test.shape)\n",
    "print(len(y_test))"
   ]
  },
  {
   "cell_type": "code",
   "execution_count": 15,
   "id": "4a91e62c",
   "metadata": {},
   "outputs": [
    {
     "name": "stdout",
     "output_type": "stream",
     "text": [
      "(21420, 3)\n",
      "(143, 3)\n"
     ]
    }
   ],
   "source": [
    "# convert labels into one hots\n",
    "\n",
    "y_train = tf.one_hot(y_train, 3)\n",
    "y_test = tf.one_hot(y_test, 3)\n",
    "print(y_train.shape)\n",
    "print(y_test.shape)"
   ]
  },
  {
   "cell_type": "markdown",
   "id": "9eaf18f9",
   "metadata": {},
   "source": [
    "___\n",
    "## Implement AlexNet"
   ]
  },
  {
   "cell_type": "code",
   "execution_count": 14,
   "id": "9e2cb711",
   "metadata": {},
   "outputs": [
    {
     "name": "stdout",
     "output_type": "stream",
     "text": [
      "Model: \"sequential\"\n",
      "_________________________________________________________________\n",
      " Layer (type)                Output Shape              Param #   \n",
      "=================================================================\n",
      " conv2d (Conv2D)             (None, 55, 55, 96)        34944     \n",
      "                                                                 \n",
      " activation (Activation)     (None, 55, 55, 96)        0         \n",
      "                                                                 \n",
      " max_pooling2d (MaxPooling2D  (None, 27, 27, 96)       0         \n",
      " )                                                               \n",
      "                                                                 \n",
      " conv2d_1 (Conv2D)           (None, 23, 23, 256)       614656    \n",
      "                                                                 \n",
      " activation_1 (Activation)   (None, 23, 23, 256)       0         \n",
      "                                                                 \n",
      " max_pooling2d_1 (MaxPooling  (None, 11, 11, 256)      0         \n",
      " 2D)                                                             \n",
      "                                                                 \n",
      " conv2d_2 (Conv2D)           (None, 9, 9, 384)         885120    \n",
      "                                                                 \n",
      " activation_2 (Activation)   (None, 9, 9, 384)         0         \n",
      "                                                                 \n",
      " conv2d_3 (Conv2D)           (None, 7, 7, 384)         1327488   \n",
      "                                                                 \n",
      " activation_3 (Activation)   (None, 7, 7, 384)         0         \n",
      "                                                                 \n",
      " conv2d_4 (Conv2D)           (None, 5, 5, 256)         884992    \n",
      "                                                                 \n",
      " activation_4 (Activation)   (None, 5, 5, 256)         0         \n",
      "                                                                 \n",
      " max_pooling2d_2 (MaxPooling  (None, 2, 2, 256)        0         \n",
      " 2D)                                                             \n",
      "                                                                 \n",
      " flatten (Flatten)           (None, 1024)              0         \n",
      "                                                                 \n",
      " dense (Dense)               (None, 4096)              4198400   \n",
      "                                                                 \n",
      " activation_5 (Activation)   (None, 4096)              0         \n",
      "                                                                 \n",
      " dropout (Dropout)           (None, 4096)              0         \n",
      "                                                                 \n",
      " dense_1 (Dense)             (None, 4096)              16781312  \n",
      "                                                                 \n",
      " activation_6 (Activation)   (None, 4096)              0         \n",
      "                                                                 \n",
      " dropout_1 (Dropout)         (None, 4096)              0         \n",
      "                                                                 \n",
      " dense_2 (Dense)             (None, 3)                 12291     \n",
      "                                                                 \n",
      " activation_7 (Activation)   (None, 3)                 0         \n",
      "                                                                 \n",
      "=================================================================\n",
      "Total params: 24,739,203\n",
      "Trainable params: 24,739,203\n",
      "Non-trainable params: 0\n",
      "_________________________________________________________________\n"
     ]
    }
   ],
   "source": [
    "image_shape = (227,227,3)\n",
    "\n",
    "# instantiate an empty model\n",
    "np.random.seed(1000)\n",
    "\n",
    "# initialize model\n",
    "model = Sequential()\n",
    "\n",
    "# 1st Conv layer\n",
    "model.add(Conv2D(filters=96, input_shape=image_shape, kernel_size=(11,11), strides=(4,4), padding='valid'))\n",
    "model.add(Activation('relu'))\n",
    "# first kernel layer has 96 filters and the input image has shape 227 x 227 x 3\n",
    "# kernel size is equal to 11 x 11, striding 4 x 4 and the activation function is relu\n",
    "\n",
    "# Max Pooling\n",
    "model.add(MaxPooling2D(pool_size=(3,3), strides = (2,2), padding='valid'))\n",
    "\n",
    "# 2nd Conv layer\n",
    "model.add(Conv2D(filters=256, kernel_size=(5,5), strides=(1,1), padding='valid'))\n",
    "model.add(Activation('relu'))\n",
    "\n",
    "# Max Pooling\n",
    "model.add(MaxPooling2D(pool_size=(3,3), strides = (2,2), padding='valid'))\n",
    "\n",
    "# 3rd Conv layer\n",
    "model.add(Conv2D(filters=384, kernel_size=(3,3), strides=(1,1), padding='valid'))\n",
    "model.add(Activation('relu'))\n",
    "\n",
    "# 4th Conv layer\n",
    "model.add(Conv2D(filters=384, kernel_size=(3,3), strides=(1,1), padding='valid'))\n",
    "model.add(Activation('relu'))\n",
    "\n",
    "# 5th Conv layer\n",
    "model.add(Conv2D(filters=256, kernel_size=(3,3), strides=(1,1), padding='valid'))\n",
    "model.add(Activation('relu'))\n",
    "\n",
    "# Max Pooling\n",
    "model.add(MaxPooling2D(pool_size=(3,3), strides = (2,2), padding='valid'))\n",
    "\n",
    "# Passing to Fully Connected layer, do the flatten\n",
    "model.add(Flatten())\n",
    "\n",
    "# 1st Fully conected layer with 4096 neurons\n",
    "model.add(Dense(4096, input_shape=(227*227*3,)))\n",
    "model.add(Activation('relu'))\n",
    "\n",
    "# Drop out for preventing overfitting\n",
    "model.add(Dropout(0.4))\n",
    "\n",
    "# 2nd Fully conected layer\n",
    "model.add(Dense(4096))\n",
    "model.add(Activation('relu'))\n",
    "\n",
    "# Drop out for preventing overfitting\n",
    "model.add(Dropout(0.4))\n",
    "\n",
    "# Output layer\n",
    "model.add(Dense(3))\n",
    "model.add(Activation('softmax'))\n",
    "\n",
    "model.summary()\n",
    "\n",
    "# Compile the model\n",
    "model.compile(loss = keras.losses.categorical_crossentropy, optimizer='adam', metrics=['accuracy'])"
   ]
  },
  {
   "cell_type": "markdown",
   "id": "25f84181",
   "metadata": {},
   "source": [
    "## Train the model"
   ]
  },
  {
   "cell_type": "code",
   "execution_count": 17,
   "id": "5f75b76a",
   "metadata": {},
   "outputs": [],
   "source": [
    "# set up early stop to terminate training after accuracy losses\n",
    "\n",
    "from tensorflow.keras.callbacks import EarlyStopping\n",
    "\n",
    "# initialize early stop object\n",
    "early_stop = EarlyStopping(monitor='val_accuracy', mode='max', verbose=1, patience=5)"
   ]
  },
  {
   "cell_type": "code",
   "execution_count": null,
   "id": "7477acc6",
   "metadata": {},
   "outputs": [],
   "source": [
    "history = model.fit(x = X_train, y = y_train,\n",
    "                   epochs = 150,\n",
    "                   validation_data = (X_test, y_test),\n",
    "                   callbacks=[early_stop],\n",
    "                   shuffle=True)"
   ]
  }
 ],
 "metadata": {
  "kernelspec": {
   "display_name": "Python 3.8 (Tensorflow 2.10)",
   "language": "python",
   "name": "tf"
  },
  "language_info": {
   "codemirror_mode": {
    "name": "ipython",
    "version": 3
   },
   "file_extension": ".py",
   "mimetype": "text/x-python",
   "name": "python",
   "nbconvert_exporter": "python",
   "pygments_lexer": "ipython3",
   "version": "3.8.16"
  }
 },
 "nbformat": 4,
 "nbformat_minor": 5
}
